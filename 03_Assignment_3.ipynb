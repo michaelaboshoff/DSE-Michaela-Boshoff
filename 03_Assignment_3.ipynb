{
 "cells": [
  {
   "cell_type": "markdown",
   "metadata": {
    "id": "h4xvH_KV8v4S"
   },
   "source": [
    "# Assignment \\#3: Importing Data (Part 2)\n",
    "In this Assignment you will be practising alternative ways of sourcing data.\n",
    "\n",
    "## Web scraping\n",
    "For this Assignment you are tasked with scraping the following website: 'premierleague.com'\n",
    "\n",
    "On this website you are looking for the results of football matches that took place in August 2019.\n",
    "\n",
    "The results of these matches can be found by going to the url 'premierleague.com/match/\\[match_ID\\]' where match_ID will start at 46605 up to 46644. \n",
    "\n",
    "## Examing the code below.\n",
    "The cell below contains limited capability of scraping the website for the results of a match and requires further functionality.\n",
    "\n",
    "The code retrieves the html page containing the match results.\n",
    "Finish the code to retrieve the following <div\\> in which both team names as well as the score line for a match can be found:\n",
    "\n",
    "Find and print the contents of <div class=\"teamsContainer\"\\></div\\>\n"
   ]
  },
  {
   "cell_type": "code",
   "execution_count": 10,
   "metadata": {
    "id": "TVjC_6i18v4T",
    "tags": []
   },
   "outputs": [
    {
     "name": "stdout",
     "output_type": "stream",
     "text": [
      "<div aria-atomic=\"true\" aria-live=\"polite\" class=\"teamsContainer\">\n",
      " <div class=\"team home\">\n",
      "  <a aria-hidden=\"true\" class=\"badgeContainer\" href=\"/clubs/10/Liverpool/overview\">\n",
      "   <span class=\"badge badge--large badge-image-container\" data-size=\"50\" data-widget=\"club-badge-image\">\n",
      "    <img class=\"badge-image badge-image--50\" src=\"https://resources.premierleague.com/premierleague/badges/50/t14.png\" srcset=\"https://resources.premierleague.com/premierleague/badges/50/t14.png, https://resources.premierleague.com/premierleague/badges/50/t14@x2.png 2x\">\n",
      "    </img>\n",
      "   </span>\n",
      "   <span class=\"badge badge--small badge-image-container\" data-size=\"25\" data-widget=\"club-badge-image\">\n",
      "    <img class=\"badge-image badge-image--25\" src=\"https://resources.premierleague.com/premierleague/badges/25/t14.png\" srcset=\"https://resources.premierleague.com/premierleague/badges/25/t14.png, https://resources.premierleague.com/premierleague/badges/25/t14@x2.png 2x\">\n",
      "    </img>\n",
      "   </span>\n",
      "  </a>\n",
      "  <a aria-hidden=\"true\" class=\"teamName\" href=\"/clubs/10/Liverpool/overview\">\n",
      "   <span class=\"long\">\n",
      "    Liverpool\n",
      "   </span>\n",
      "   <span class=\"short\">\n",
      "    LIV\n",
      "   </span>\n",
      "  </a>\n",
      " </div>\n",
      " <div class=\"matchScoreContainer\">\n",
      "  <div class=\"centre\">\n",
      "   <div class=\"score fullTime\">\n",
      "    4\n",
      "    <span>\n",
      "     -\n",
      "    </span>\n",
      "    1\n",
      "   </div>\n",
      "  </div>\n",
      " </div>\n",
      " <div class=\"team away\">\n",
      "  <a aria-hidden=\"true\" class=\"badgeContainer\" href=\"/clubs/14/Norwich-City/overview\">\n",
      "   <span class=\"badge badge--large badge-image-container\" data-size=\"50\" data-widget=\"club-badge-image\">\n",
      "    <img class=\"badge-image badge-image--50\" src=\"https://resources.premierleague.com/premierleague/badges/50/t45.png\" srcset=\"https://resources.premierleague.com/premierleague/badges/50/t45.png, https://resources.premierleague.com/premierleague/badges/50/t45@x2.png 2x\">\n",
      "    </img>\n",
      "   </span>\n",
      "   <span class=\"badge badge--small badge-image-container\" data-size=\"25\" data-widget=\"club-badge-image\">\n",
      "    <img class=\"badge-image badge-image--25\" src=\"https://resources.premierleague.com/premierleague/badges/25/t45.png\" srcset=\"https://resources.premierleague.com/premierleague/badges/25/t45.png, https://resources.premierleague.com/premierleague/badges/25/t45@x2.png 2x\">\n",
      "    </img>\n",
      "   </span>\n",
      "  </a>\n",
      "  <a aria-hidden=\"true\" class=\"teamName\" href=\"/clubs/14/Norwich-City/overview\">\n",
      "   <span class=\"long\">\n",
      "    Norwich City\n",
      "   </span>\n",
      "   <span class=\"short\">\n",
      "    NOR\n",
      "   </span>\n",
      "  </a>\n",
      " </div>\n",
      "</div>\n",
      "\n"
     ]
    }
   ],
   "source": [
    "from bs4 import BeautifulSoup\n",
    "import requests\n",
    "import pandas as pd\n",
    "\n",
    "url = 'https://premierleague.com/match/46605'\n",
    "\n",
    "page = requests.get(url)\n",
    "\n",
    "soup = BeautifulSoup(page.content, 'html.parser')\n",
    "\n",
    "# insert code here\n",
    "for contents in soup.find_all('div', {'class':'teamsContainer'}):\n",
    "    print(contents.prettify())"
   ]
  },
  {
   "cell_type": "markdown",
   "metadata": {
    "id": "D8ZJumM38v4U"
   },
   "source": [
    "## Write code to clean the html code stored in 'teamsContainer' to output the team names and scoreline of the given match."
   ]
  },
  {
   "cell_type": "code",
   "execution_count": 11,
   "metadata": {
    "id": "gq75-ouR8v4U"
   },
   "outputs": [
    {
     "name": "stdout",
     "output_type": "stream",
     "text": [
      "Liverpool vs Norwich City = ['4-1']\n"
     ]
    }
   ],
   "source": [
    "# write code here\n",
    "teamContainer = soup.find('div', attrs = {'class':'teamsContainer'})\n",
    "\n",
    "teamnames = teamContainer.find_all('a', attrs = {'class': 'teamName'})\n",
    "scoreline = teamContainer.find_all('div', attrs = {'class': 'score fullTime'})\n",
    "teamNames =[]\n",
    "score = []\n",
    "\n",
    "for x in teamnames:\n",
    "    teamNames.append(x.find('span', attrs = {'class':'long'}).text)\n",
    "for x in scoreline:\n",
    "    score.append(x.text)\n",
    "print(teamNames[0] + ' vs ' + teamNames[1] + ' = ' + str(score))"
   ]
  },
  {
   "cell_type": "markdown",
   "metadata": {
    "id": "hrCjU5L_8v4U"
   },
   "source": [
    "## Now we want to retrieve the team names as well of the scoreline for all the matches in August (match ID: 46605 to 46643).\n",
    "Save the names of the home team, away team, the number of goals scored by the home team and the number of goals scored by the away team in a dataframe.\n",
    "\n",
    "Afterwards print out the dataframe.\n",
    "\n",
    "Note: If correctly implemented, it should take up to a 3 minutes to scrape these results."
   ]
  },
  {
   "cell_type": "code",
   "execution_count": 35,
   "metadata": {
    "id": "nlkSA6oo8v4U"
   },
   "outputs": [
    {
     "name": "stdout",
     "output_type": "stream",
     "text": [
      "                   Home Team                 Away Team Home Team Goals  \\\n",
      "0                  Liverpool              Norwich City               4   \n",
      "1                Bournemouth          Sheffield United               1   \n",
      "2                    Burnley               Southampton               3   \n",
      "3             Crystal Palace                   Everton               0   \n",
      "4             Leicester City   Wolverhampton Wanderers               0   \n",
      "5          Tottenham Hotspur               Aston Villa               3   \n",
      "6                    Watford  Brighton and Hove Albion               0   \n",
      "7            West Ham United           Manchester City               0   \n",
      "8          Manchester United                   Chelsea               4   \n",
      "9           Newcastle United                   Arsenal               0   \n",
      "10                   Arsenal                   Burnley               2   \n",
      "11               Aston Villa               Bournemouth               1   \n",
      "12  Brighton and Hove Albion           West Ham United               1   \n",
      "13                   Chelsea            Leicester City               1   \n",
      "14                   Everton                   Watford               1   \n",
      "15           Manchester City         Tottenham Hotspur               2   \n",
      "16              Norwich City          Newcastle United               3   \n",
      "17          Sheffield United            Crystal Palace               1   \n",
      "18               Southampton                 Liverpool               1   \n",
      "19   Wolverhampton Wanderers         Manchester United               1   \n",
      "20               Aston Villa                   Everton               2   \n",
      "21               Bournemouth           Manchester City               1   \n",
      "22  Brighton and Hove Albion               Southampton               0   \n",
      "23                 Liverpool                   Arsenal               3   \n",
      "24         Manchester United            Crystal Palace               1   \n",
      "25              Norwich City                   Chelsea               2   \n",
      "26          Sheffield United            Leicester City               1   \n",
      "27         Tottenham Hotspur          Newcastle United               0   \n",
      "28                   Watford           West Ham United               1   \n",
      "29   Wolverhampton Wanderers                   Burnley               1   \n",
      "30                   Arsenal         Tottenham Hotspur               2   \n",
      "31                   Burnley                 Liverpool               0   \n",
      "32                   Chelsea          Sheffield United               2   \n",
      "33            Crystal Palace               Aston Villa               1   \n",
      "34                   Everton   Wolverhampton Wanderers               3   \n",
      "35            Leicester City               Bournemouth               3   \n",
      "36           Manchester City  Brighton and Hove Albion               4   \n",
      "37          Newcastle United                   Watford               1   \n",
      "38               Southampton         Manchester United               1   \n",
      "\n",
      "   Away Team Goals  \n",
      "0                1  \n",
      "1                1  \n",
      "2                0  \n",
      "3                0  \n",
      "4                0  \n",
      "5                1  \n",
      "6                3  \n",
      "7                5  \n",
      "8                0  \n",
      "9                1  \n",
      "10               1  \n",
      "11               2  \n",
      "12               1  \n",
      "13               1  \n",
      "14               0  \n",
      "15               2  \n",
      "16               1  \n",
      "17               0  \n",
      "18               2  \n",
      "19               1  \n",
      "20               0  \n",
      "21               3  \n",
      "22               2  \n",
      "23               1  \n",
      "24               2  \n",
      "25               3  \n",
      "26               2  \n",
      "27               1  \n",
      "28               3  \n",
      "29               1  \n",
      "30               2  \n",
      "31               3  \n",
      "32               2  \n",
      "33               0  \n",
      "34               2  \n",
      "35               1  \n",
      "36               0  \n",
      "37               1  \n",
      "38               1  \n"
     ]
    }
   ],
   "source": [
    "# write code here\n",
    "df = pd.DataFrame()\n",
    "HomeTeam = []\n",
    "AwayTeam = []\n",
    "ScoresH =[]\n",
    "ScoresA = []\n",
    "link = \"https://premierleague.com/match/\"\n",
    "\n",
    "for id in range(46605,46644):\n",
    "    url = link + str(id)\n",
    "    page = requests.get(url)\n",
    "    soup = BeautifulSoup(page.content, 'html.parser')\n",
    "    teamContainer = soup.find('div', attrs = {'class':'teamsContainer'})\n",
    "    teamHome = teamContainer.find('div', attrs = {'class': 'team home'})\n",
    "    teamAway = teamContainer.find('div', attrs = {'class': 'team away'})\n",
    "    scoreline = teamContainer.find('div', attrs = {'class': 'score fullTime'})\n",
    "    HomeTeam.append(teamHome.find('span', attrs = {'class':'long'}).text)\n",
    "    AwayTeam.append(teamAway.find('span', attrs = {'class', 'long'}).text)\n",
    "    ScoresH.append(scoreline.text.split('-')[0])\n",
    "    ScoresA.append(scoreline.text.split('-')[1])\n",
    "df = pd.DataFrame({\"Home Team\":HomeTeam, \"Away Team\":AwayTeam, \"Home Team Goals\":ScoresH, \"Away Team Goals\":ScoresA})\n",
    "print(df)"
   ]
  },
  {
   "cell_type": "markdown",
   "metadata": {
    "id": "OQh0avFo8v4V"
   },
   "source": [
    "## Print a list of all unique teams."
   ]
  },
  {
   "cell_type": "code",
   "execution_count": 40,
   "metadata": {
    "id": "8udNvM4V8v4V"
   },
   "outputs": [
    {
     "name": "stdout",
     "output_type": "stream",
     "text": [
      "['Arsenal', 'Aston Villa', 'Bournemouth', 'Brighton and Hove Albion', 'Burnley', 'Chelsea', 'Crystal Palace', 'Everton', 'Leicester City', 'Liverpool', 'Manchester City', 'Manchester United', 'Newcastle United', 'Norwich City', 'Sheffield United', 'Southampton', 'Tottenham Hotspur', 'Watford', 'West Ham United', 'Wolverhampton Wanderers']\n"
     ]
    }
   ],
   "source": [
    "# write code here\n",
    "home = df[\"Home Team\"].unique()\n",
    "print(sorted(home))"
   ]
  },
  {
   "cell_type": "markdown",
   "metadata": {
    "id": "ncIr4G7n8v4W"
   },
   "source": [
    "## Using the scores of each match, compute the current standings.\n",
    "Use the following rules to calculate the points for a given team:\n",
    "\n",
    "For a win, award a team 3, points.\n",
    "\n",
    "A draw earns both teams 1 point.\n",
    "\n",
    "No points are earned for a loss.\n",
    "\n",
    "### Print the resulting dataframe ordered by total points.\n",
    "Your dataframe should have the following columns: Team Name, Total points.\n"
   ]
  },
  {
   "cell_type": "code",
   "execution_count": 44,
   "metadata": {
    "id": "AEQ09VKX8v4W"
   },
   "outputs": [
    {
     "name": "stdout",
     "output_type": "stream",
     "text": [
      "                   Team Name  Points\n",
      "18                 Liverpool    12.0\n",
      "7            Manchester City    10.0\n",
      "13            Leicester City     8.0\n",
      "3                    Everton     7.0\n",
      "17            Crystal Palace     7.0\n",
      "9                    Arsenal     7.0\n",
      "19         Manchester United     5.0\n",
      "15         Tottenham Hotspur     5.0\n",
      "8                    Chelsea     5.0\n",
      "1           Sheffield United     5.0\n",
      "12           West Ham United     4.0\n",
      "16          Newcastle United     4.0\n",
      "10                   Burnley     4.0\n",
      "11               Bournemouth     4.0\n",
      "6   Brighton and Hove Albion     4.0\n",
      "2                Southampton     4.0\n",
      "5                Aston Villa     3.0\n",
      "4    Wolverhampton Wanderers     3.0\n",
      "0               Norwich City     3.0\n",
      "14                   Watford     1.0\n"
     ]
    }
   ],
   "source": [
    "# write code here\n",
    "import numpy as np\n",
    "TeamName = list(df['Away Team'].unique())\n",
    "points = np.zeros(len(TeamName))\n",
    "\n",
    "for x in df.values:\n",
    "    if x[2] > x[3]:\n",
    "        points[TeamName.index(x[0])] = points[TeamName.index(x[0])] + 3\n",
    "    elif x[2] < x[3]:\n",
    "        points[TeamName.index(x[1])] = points[TeamName.index(x[1])] + 3\n",
    "    else:\n",
    "        points[TeamName.index(x[0])] = points[TeamName.index(x[0])] + 1\n",
    "        points[TeamName.index(x[1])] = points[TeamName.index(x[1])] + 1\n",
    "points_df = pd.DataFrame({'Team Name': TeamName, 'Points': points})\n",
    "sorted_points_df = points_df.sort_values('Points', ascending = False)\n",
    "print(sorted_points_df)"
   ]
  }
 ],
 "metadata": {
  "colab": {
   "provenance": []
  },
  "kernelspec": {
   "display_name": "Python 3 (ipykernel)",
   "language": "python",
   "name": "python3"
  },
  "language_info": {
   "codemirror_mode": {
    "name": "ipython",
    "version": 3
   },
   "file_extension": ".py",
   "mimetype": "text/x-python",
   "name": "python",
   "nbconvert_exporter": "python",
   "pygments_lexer": "ipython3",
   "version": "3.9.12"
  }
 },
 "nbformat": 4,
 "nbformat_minor": 1
}
